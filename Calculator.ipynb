{
  "nbformat": 4,
  "nbformat_minor": 0,
  "metadata": {
    "colab": {
      "name": "Calculator.ipynb",
      "provenance": []
    },
    "kernelspec": {
      "name": "python3",
      "display_name": "Python 3"
    },
    "language_info": {
      "name": "python"
    }
  },
  "cells": [
    {
      "cell_type": "code",
      "execution_count": 1,
      "metadata": {
        "colab": {
          "base_uri": "https://localhost:8080/",
          "height": 356
        },
        "id": "OupRAK5TWGs3",
        "outputId": "52dcb7b1-579a-43d6-cdd8-0ffa4623542e"
      },
      "outputs": [
        {
          "output_type": "error",
          "ename": "TclError",
          "evalue": "ignored",
          "traceback": [
            "\u001b[0;31m---------------------------------------------------------------------------\u001b[0m",
            "\u001b[0;31mTclError\u001b[0m                                  Traceback (most recent call last)",
            "\u001b[0;32m<ipython-input-1-b2e466b64998>\u001b[0m in \u001b[0;36m<module>\u001b[0;34m()\u001b[0m\n\u001b[1;32m      4\u001b[0m \u001b[0;32mfrom\u001b[0m \u001b[0mtkinter\u001b[0m\u001b[0;34m.\u001b[0m\u001b[0mconstants\u001b[0m \u001b[0;32mimport\u001b[0m \u001b[0mSUNKEN\u001b[0m\u001b[0;34m\u001b[0m\u001b[0;34m\u001b[0m\u001b[0m\n\u001b[1;32m      5\u001b[0m \u001b[0;34m\u001b[0m\u001b[0m\n\u001b[0;32m----> 6\u001b[0;31m \u001b[0mwindow\u001b[0m \u001b[0;34m=\u001b[0m \u001b[0mtk\u001b[0m\u001b[0;34m.\u001b[0m\u001b[0mTk\u001b[0m\u001b[0;34m(\u001b[0m\u001b[0;34m)\u001b[0m\u001b[0;34m\u001b[0m\u001b[0;34m\u001b[0m\u001b[0m\n\u001b[0m\u001b[1;32m      7\u001b[0m \u001b[0mwindow\u001b[0m\u001b[0;34m.\u001b[0m\u001b[0mtitle\u001b[0m\u001b[0;34m(\u001b[0m\u001b[0;34m'Claculator-GeeksForGeeks'\u001b[0m\u001b[0;34m)\u001b[0m\u001b[0;34m\u001b[0m\u001b[0;34m\u001b[0m\u001b[0m\n\u001b[1;32m      8\u001b[0m \u001b[0mframe\u001b[0m \u001b[0;34m=\u001b[0m \u001b[0mtk\u001b[0m\u001b[0;34m.\u001b[0m\u001b[0mFrame\u001b[0m\u001b[0;34m(\u001b[0m\u001b[0mmaster\u001b[0m\u001b[0;34m=\u001b[0m\u001b[0mwindow\u001b[0m\u001b[0;34m,\u001b[0m \u001b[0mbg\u001b[0m\u001b[0;34m=\u001b[0m\u001b[0;34m\"skyblue\"\u001b[0m\u001b[0;34m,\u001b[0m \u001b[0mpadx\u001b[0m\u001b[0;34m=\u001b[0m\u001b[0;36m10\u001b[0m\u001b[0;34m)\u001b[0m\u001b[0;34m\u001b[0m\u001b[0;34m\u001b[0m\u001b[0m\n",
            "\u001b[0;32m/usr/lib/python3.7/tkinter/__init__.py\u001b[0m in \u001b[0;36m__init__\u001b[0;34m(self, screenName, baseName, className, useTk, sync, use)\u001b[0m\n\u001b[1;32m   2021\u001b[0m                 \u001b[0mbaseName\u001b[0m \u001b[0;34m=\u001b[0m \u001b[0mbaseName\u001b[0m \u001b[0;34m+\u001b[0m \u001b[0mext\u001b[0m\u001b[0;34m\u001b[0m\u001b[0;34m\u001b[0m\u001b[0m\n\u001b[1;32m   2022\u001b[0m         \u001b[0minteractive\u001b[0m \u001b[0;34m=\u001b[0m \u001b[0;36m0\u001b[0m\u001b[0;34m\u001b[0m\u001b[0;34m\u001b[0m\u001b[0m\n\u001b[0;32m-> 2023\u001b[0;31m         \u001b[0mself\u001b[0m\u001b[0;34m.\u001b[0m\u001b[0mtk\u001b[0m \u001b[0;34m=\u001b[0m \u001b[0m_tkinter\u001b[0m\u001b[0;34m.\u001b[0m\u001b[0mcreate\u001b[0m\u001b[0;34m(\u001b[0m\u001b[0mscreenName\u001b[0m\u001b[0;34m,\u001b[0m \u001b[0mbaseName\u001b[0m\u001b[0;34m,\u001b[0m \u001b[0mclassName\u001b[0m\u001b[0;34m,\u001b[0m \u001b[0minteractive\u001b[0m\u001b[0;34m,\u001b[0m \u001b[0mwantobjects\u001b[0m\u001b[0;34m,\u001b[0m \u001b[0museTk\u001b[0m\u001b[0;34m,\u001b[0m \u001b[0msync\u001b[0m\u001b[0;34m,\u001b[0m \u001b[0muse\u001b[0m\u001b[0;34m)\u001b[0m\u001b[0;34m\u001b[0m\u001b[0;34m\u001b[0m\u001b[0m\n\u001b[0m\u001b[1;32m   2024\u001b[0m         \u001b[0;32mif\u001b[0m \u001b[0museTk\u001b[0m\u001b[0;34m:\u001b[0m\u001b[0;34m\u001b[0m\u001b[0;34m\u001b[0m\u001b[0m\n\u001b[1;32m   2025\u001b[0m             \u001b[0mself\u001b[0m\u001b[0;34m.\u001b[0m\u001b[0m_loadtk\u001b[0m\u001b[0;34m(\u001b[0m\u001b[0;34m)\u001b[0m\u001b[0;34m\u001b[0m\u001b[0;34m\u001b[0m\u001b[0m\n",
            "\u001b[0;31mTclError\u001b[0m: no display name and no $DISPLAY environment variable"
          ]
        }
      ],
      "source": [
        "# pip install tkinter\n",
        "import tkinter as tk\n",
        "import tkinter.messagebox\n",
        "from tkinter.constants import SUNKEN\n",
        " \n",
        "window = tk.Tk()\n",
        "window.title('Claculator-GeeksForGeeks')\n",
        "frame = tk.Frame(master=window, bg=\"skyblue\", padx=10)\n",
        "frame.pack()\n",
        "entry = tk.Entry(master=frame, relief=SUNKEN, borderwidth=3, width=30)\n",
        "entry.grid(row=0, column=0, columnspan=3, ipady=2, pady=2)\n",
        " \n",
        " \n",
        "def myclick(number):\n",
        "    entry.insert(tk.END, number)\n",
        " \n",
        " \n",
        "def equal():\n",
        "    try:\n",
        "        y = str(eval(entry.get()))\n",
        "        entry.delete(0, tk.END)\n",
        "        entry.insert(0, y)\n",
        "    except:\n",
        "        tkinter.messagebox.showinfo(\"Error\", \"Syntax Error\")\n",
        " \n",
        " \n",
        "def clear():\n",
        "    entry.delete(0, tk.END)\n",
        " \n",
        " \n",
        "button_1 = tk.Button(master=frame, text='1', padx=15,\n",
        "                     pady=5, width=3, command=lambda: myclick(1))\n",
        "button_1.grid(row=1, column=0, pady=2)\n",
        "button_2 = tk.Button(master=frame, text='2', padx=15,\n",
        "                     pady=5, width=3, command=lambda: myclick(2))\n",
        "button_2.grid(row=1, column=1, pady=2)\n",
        "button_3 = tk.Button(master=frame, text='3', padx=15,\n",
        "                     pady=5, width=3, command=lambda: myclick(3))\n",
        "button_3.grid(row=1, column=2, pady=2)\n",
        "button_4 = tk.Button(master=frame, text='4', padx=15,\n",
        "                     pady=5, width=3, command=lambda: myclick(4))\n",
        "button_4.grid(row=2, column=0, pady=2)\n",
        "button_5 = tk.Button(master=frame, text='5', padx=15,\n",
        "                     pady=5, width=3, command=lambda: myclick(5))\n",
        "button_5.grid(row=2, column=1, pady=2)\n",
        "button_6 = tk.Button(master=frame, text='6', padx=15,\n",
        "                     pady=5, width=3, command=lambda: myclick(6))\n",
        "button_6.grid(row=2, column=2, pady=2)\n",
        "button_7 = tk.Button(master=frame, text='7', padx=15,\n",
        "                     pady=5, width=3, command=lambda: myclick(7))\n",
        "button_7.grid(row=3, column=0, pady=2)\n",
        "button_8 = tk.Button(master=frame, text='8', padx=15,\n",
        "                     pady=5, width=3, command=lambda: myclick(8))\n",
        "button_8.grid(row=3, column=1, pady=2)\n",
        "button_9 = tk.Button(master=frame, text='9', padx=15,\n",
        "                     pady=5, width=3, command=lambda: myclick(9))\n",
        "button_9.grid(row=3, column=2, pady=2)\n",
        "button_0 = tk.Button(master=frame, text='0', padx=15,\n",
        "                     pady=5, width=3, command=lambda: myclick(0))\n",
        "button_0.grid(row=4, column=1, pady=2)\n",
        " \n",
        "button_add = tk.Button(master=frame, text=\"+\", padx=15,\n",
        "                       pady=5, width=3, command=lambda: myclick('+'))\n",
        "button_add.grid(row=5, column=0, pady=2)\n",
        " \n",
        "button_subtract = tk.Button(\n",
        "    master=frame, text=\"-\", padx=15, pady=5, width=3, command=lambda: myclick('-'))\n",
        "button_subtract.grid(row=5, column=1, pady=2)\n",
        " \n",
        "button_multiply = tk.Button(\n",
        "    master=frame, text=\"*\", padx=15, pady=5, width=3, command=lambda: myclick('*'))\n",
        "button_multiply.grid(row=5, column=2, pady=2)\n",
        " \n",
        "button_div = tk.Button(master=frame, text=\"/\", padx=15,\n",
        "                       pady=5, width=3, command=lambda: myclick('/'))\n",
        "button_div.grid(row=6, column=0, pady=2)\n",
        " \n",
        "button_clear = tk.Button(master=frame, text=\"clear\",\n",
        "                         padx=15, pady=5, width=12, command=clear)\n",
        "button_clear.grid(row=6, column=1, columnspan=2, pady=2)\n",
        " \n",
        "button_equal = tk.Button(master=frame, text=\"=\", padx=15,\n",
        "                         pady=5, width=9, command=equal)\n",
        "button_equal.grid(row=7, column=0, columnspan=3, pady=2)\n",
        " \n",
        "window.mainloop()"
      ]
    },
    {
      "cell_type": "code",
      "source": [
        "# Python program for simple calculator\n",
        " \n",
        "# Function to add two numbers\n",
        "def add(num1, num2):\n",
        "    return num1 + num2\n",
        " \n",
        "# Function to subtract two numbers\n",
        "def subtract(num1, num2):\n",
        "    return num1 - num2\n",
        " \n",
        "# Function to multiply two numbers\n",
        "def multiply(num1, num2):\n",
        "    return num1 * num2\n",
        " \n",
        "# Function to divide two numbers\n",
        "def divide(num1, num2):\n",
        "    return num1 / num2\n",
        " \n",
        "print(\"Please select operation -\\n\" \\\n",
        "        \"1. Add\\n\" \\\n",
        "        \"2. Subtract\\n\" \\\n",
        "        \"3. Multiply\\n\" \\\n",
        "        \"4. Divide\\n\")\n",
        " \n",
        " \n",
        "# Take input from the user\n",
        "select = int(input(\"Select operations form 1, 2, 3, 4 :\"))\n",
        " \n",
        "number_1 = int(input(\"Enter first number: \"))\n",
        "number_2 = int(input(\"Enter second number: \"))\n",
        " \n",
        "if select == 1:\n",
        "    print(number_1, \"+\", number_2, \"=\",\n",
        "                    add(number_1, number_2))\n",
        " \n",
        "elif select == 2:\n",
        "    print(number_1, \"-\", number_2, \"=\",\n",
        "                    subtract(number_1, number_2))\n",
        " \n",
        "elif select == 3:\n",
        "    print(number_1, \"*\", number_2, \"=\",\n",
        "                    multiply(number_1, number_2))\n",
        " \n",
        "elif select == 4:\n",
        "    print(number_1, \"/\", number_2, \"=\",\n",
        "                    divide(number_1, number_2))\n",
        "else:\n",
        "    print(\"Invalid input\")"
      ],
      "metadata": {
        "id": "hASiRfKuWReH",
        "outputId": "d46949ff-7284-482c-ac60-948c1cd5f932",
        "colab": {
          "base_uri": "https://localhost:8080/"
        }
      },
      "execution_count": null,
      "outputs": [
        {
          "output_type": "stream",
          "name": "stdout",
          "text": [
            "Please select operation -\n",
            "1. Add\n",
            "2. Subtract\n",
            "3. Multiply\n",
            "4. Divide\n",
            "\n"
          ]
        }
      ]
    }
  ]
}